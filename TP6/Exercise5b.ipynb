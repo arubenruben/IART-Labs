{
 "cells": [
  {
   "cell_type": "markdown",
   "metadata": {},
   "source": [
    "# Exercise 5 - IART - Supervised Learning\n",
    "\n",
    "Author: Luis Paulo Reis - University of Porto/LIACC\n",
    "\n",
    "Exercise: Iris flower extended data set – Classification using different Algorithms\n",
    "\n",
    "Continuing with the Iris dataset, suppose that we have Iris already identified in the 3 classes but now we have also the Iris packed in different types of packages: “Simple – 0”, “Gift – 1” and “Luxury – 2”. We also have a new variable “price” with three possibilities: “Low”, “Medium”, “High”. \n",
    " \n",
    "We have now a different classification problem in which we want to predict the “price” classification based on the remaining characteristics: sepal_length_cm, sepal_width_cm, petal_length_cm, petal_width_cm, iris_type, and package.\n",
    "\n",
    "a) Start by importing all the needed libraries (numpy, pandas, scikitlearn, matplotlib and seaborn)"
   ]
  },
  {
   "cell_type": "code",
   "execution_count": 28,
   "metadata": {},
   "outputs": [],
   "source": [
    "%matplotlib inline\n",
    "import matplotlib.pyplot as plt\n",
    "import seaborn as sb\n",
    "import pandas as pd\n",
    "import numpy as np"
   ]
  },
  {
   "cell_type": "markdown",
   "metadata": {},
   "source": [
    "b) Read the iris-data-new2.csv using Pandas"
   ]
  },
  {
   "cell_type": "code",
   "execution_count": 29,
   "metadata": {},
   "outputs": [],
   "source": [
    "iris_data2 = pd.read_csv('iris-data-new2.csv')"
   ]
  },
  {
   "cell_type": "markdown",
   "metadata": {},
   "source": [
    "c) Analize the data using the head(), describe(), and other Pandas commands. "
   ]
  },
  {
   "cell_type": "code",
   "execution_count": 30,
   "metadata": {
    "scrolled": true
   },
   "outputs": [
    {
     "data": {
      "text/html": [
       "<div>\n",
       "<style scoped>\n",
       "    .dataframe tbody tr th:only-of-type {\n",
       "        vertical-align: middle;\n",
       "    }\n",
       "\n",
       "    .dataframe tbody tr th {\n",
       "        vertical-align: top;\n",
       "    }\n",
       "\n",
       "    .dataframe thead th {\n",
       "        text-align: right;\n",
       "    }\n",
       "</style>\n",
       "<table border=\"1\" class=\"dataframe\">\n",
       "  <thead>\n",
       "    <tr style=\"text-align: right;\">\n",
       "      <th></th>\n",
       "      <th>sepal_length_cm</th>\n",
       "      <th>sepal_width_cm</th>\n",
       "      <th>petal_length_cm</th>\n",
       "      <th>petal_width_cm</th>\n",
       "      <th>iris_type</th>\n",
       "      <th>package</th>\n",
       "      <th>price</th>\n",
       "    </tr>\n",
       "  </thead>\n",
       "  <tbody>\n",
       "    <tr>\n",
       "      <th>0</th>\n",
       "      <td>5.1</td>\n",
       "      <td>3.5</td>\n",
       "      <td>1.4</td>\n",
       "      <td>0.2</td>\n",
       "      <td>Iris-setosa</td>\n",
       "      <td>2</td>\n",
       "      <td>Medium</td>\n",
       "    </tr>\n",
       "    <tr>\n",
       "      <th>1</th>\n",
       "      <td>4.9</td>\n",
       "      <td>3.0</td>\n",
       "      <td>1.4</td>\n",
       "      <td>0.2</td>\n",
       "      <td>Iris-setosa</td>\n",
       "      <td>1</td>\n",
       "      <td>Low</td>\n",
       "    </tr>\n",
       "    <tr>\n",
       "      <th>2</th>\n",
       "      <td>4.7</td>\n",
       "      <td>3.2</td>\n",
       "      <td>1.3</td>\n",
       "      <td>0.2</td>\n",
       "      <td>Iris-setosa</td>\n",
       "      <td>0</td>\n",
       "      <td>Low</td>\n",
       "    </tr>\n",
       "    <tr>\n",
       "      <th>3</th>\n",
       "      <td>4.6</td>\n",
       "      <td>3.1</td>\n",
       "      <td>1.5</td>\n",
       "      <td>0.2</td>\n",
       "      <td>Iris-setosa</td>\n",
       "      <td>0</td>\n",
       "      <td>Low</td>\n",
       "    </tr>\n",
       "    <tr>\n",
       "      <th>4</th>\n",
       "      <td>5.0</td>\n",
       "      <td>3.6</td>\n",
       "      <td>1.4</td>\n",
       "      <td>0.2</td>\n",
       "      <td>Iris-setosa</td>\n",
       "      <td>0</td>\n",
       "      <td>Low</td>\n",
       "    </tr>\n",
       "  </tbody>\n",
       "</table>\n",
       "</div>"
      ],
      "text/plain": [
       "   sepal_length_cm  sepal_width_cm  petal_length_cm  petal_width_cm  \\\n",
       "0              5.1             3.5              1.4             0.2   \n",
       "1              4.9             3.0              1.4             0.2   \n",
       "2              4.7             3.2              1.3             0.2   \n",
       "3              4.6             3.1              1.5             0.2   \n",
       "4              5.0             3.6              1.4             0.2   \n",
       "\n",
       "     iris_type  package   price  \n",
       "0  Iris-setosa        2  Medium  \n",
       "1  Iris-setosa        1     Low  \n",
       "2  Iris-setosa        0     Low  \n",
       "3  Iris-setosa        0     Low  \n",
       "4  Iris-setosa        0     Low  "
      ]
     },
     "execution_count": 30,
     "metadata": {},
     "output_type": "execute_result"
    }
   ],
   "source": [
    "iris_data2.head(5)\n",
    "#iris_data2.head(10)\n",
    "#iris_data2.tail(10)"
   ]
  },
  {
   "cell_type": "code",
   "execution_count": 31,
   "metadata": {
    "scrolled": true
   },
   "outputs": [
    {
     "data": {
      "text/html": [
       "<div>\n",
       "<style scoped>\n",
       "    .dataframe tbody tr th:only-of-type {\n",
       "        vertical-align: middle;\n",
       "    }\n",
       "\n",
       "    .dataframe tbody tr th {\n",
       "        vertical-align: top;\n",
       "    }\n",
       "\n",
       "    .dataframe thead th {\n",
       "        text-align: right;\n",
       "    }\n",
       "</style>\n",
       "<table border=\"1\" class=\"dataframe\">\n",
       "  <thead>\n",
       "    <tr style=\"text-align: right;\">\n",
       "      <th></th>\n",
       "      <th>sepal_length_cm</th>\n",
       "      <th>sepal_width_cm</th>\n",
       "      <th>petal_length_cm</th>\n",
       "      <th>petal_width_cm</th>\n",
       "      <th>package</th>\n",
       "    </tr>\n",
       "  </thead>\n",
       "  <tbody>\n",
       "    <tr>\n",
       "      <th>count</th>\n",
       "      <td>149.000000</td>\n",
       "      <td>149.000000</td>\n",
       "      <td>149.000000</td>\n",
       "      <td>149.000000</td>\n",
       "      <td>149.000000</td>\n",
       "    </tr>\n",
       "    <tr>\n",
       "      <th>mean</th>\n",
       "      <td>5.847651</td>\n",
       "      <td>3.059732</td>\n",
       "      <td>3.775168</td>\n",
       "      <td>1.209732</td>\n",
       "      <td>0.442953</td>\n",
       "    </tr>\n",
       "    <tr>\n",
       "      <th>std</th>\n",
       "      <td>0.799542</td>\n",
       "      <td>0.430104</td>\n",
       "      <td>1.758720</td>\n",
       "      <td>0.762191</td>\n",
       "      <td>0.710753</td>\n",
       "    </tr>\n",
       "    <tr>\n",
       "      <th>min</th>\n",
       "      <td>4.400000</td>\n",
       "      <td>2.000000</td>\n",
       "      <td>1.000000</td>\n",
       "      <td>0.100000</td>\n",
       "      <td>0.000000</td>\n",
       "    </tr>\n",
       "    <tr>\n",
       "      <th>25%</th>\n",
       "      <td>5.100000</td>\n",
       "      <td>2.800000</td>\n",
       "      <td>1.600000</td>\n",
       "      <td>0.300000</td>\n",
       "      <td>0.000000</td>\n",
       "    </tr>\n",
       "    <tr>\n",
       "      <th>50%</th>\n",
       "      <td>5.800000</td>\n",
       "      <td>3.000000</td>\n",
       "      <td>4.400000</td>\n",
       "      <td>1.300000</td>\n",
       "      <td>0.000000</td>\n",
       "    </tr>\n",
       "    <tr>\n",
       "      <th>75%</th>\n",
       "      <td>6.400000</td>\n",
       "      <td>3.300000</td>\n",
       "      <td>5.100000</td>\n",
       "      <td>1.800000</td>\n",
       "      <td>1.000000</td>\n",
       "    </tr>\n",
       "    <tr>\n",
       "      <th>max</th>\n",
       "      <td>7.900000</td>\n",
       "      <td>4.400000</td>\n",
       "      <td>6.900000</td>\n",
       "      <td>2.500000</td>\n",
       "      <td>2.000000</td>\n",
       "    </tr>\n",
       "  </tbody>\n",
       "</table>\n",
       "</div>"
      ],
      "text/plain": [
       "       sepal_length_cm  sepal_width_cm  petal_length_cm  petal_width_cm  \\\n",
       "count       149.000000      149.000000       149.000000      149.000000   \n",
       "mean          5.847651        3.059732         3.775168        1.209732   \n",
       "std           0.799542        0.430104         1.758720        0.762191   \n",
       "min           4.400000        2.000000         1.000000        0.100000   \n",
       "25%           5.100000        2.800000         1.600000        0.300000   \n",
       "50%           5.800000        3.000000         4.400000        1.300000   \n",
       "75%           6.400000        3.300000         5.100000        1.800000   \n",
       "max           7.900000        4.400000         6.900000        2.500000   \n",
       "\n",
       "          package  \n",
       "count  149.000000  \n",
       "mean     0.442953  \n",
       "std      0.710753  \n",
       "min      0.000000  \n",
       "25%      0.000000  \n",
       "50%      0.000000  \n",
       "75%      1.000000  \n",
       "max      2.000000  "
      ]
     },
     "execution_count": 31,
     "metadata": {},
     "output_type": "execute_result"
    }
   ],
   "source": [
    "iris_data2.describe()\n",
    "#iris_data2.describe(include=['number'])"
   ]
  },
  {
   "cell_type": "code",
   "execution_count": 32,
   "metadata": {},
   "outputs": [
    {
     "data": {
      "text/plain": [
       "sepal_length_cm    float64\n",
       "sepal_width_cm     float64\n",
       "petal_length_cm    float64\n",
       "petal_width_cm     float64\n",
       "iris_type           object\n",
       "package              int64\n",
       "price               object\n",
       "dtype: object"
      ]
     },
     "execution_count": 32,
     "metadata": {},
     "output_type": "execute_result"
    }
   ],
   "source": [
    "# Some functions to test\n",
    "iris_data2.dtypes\n",
    "#iris_data2.axes\n",
    "#iris_data2.shape\n",
    "#iris_data2.ndim\n",
    "#iris_data2.values"
   ]
  },
  {
   "cell_type": "code",
   "execution_count": null,
   "metadata": {},
   "outputs": [],
   "source": []
  },
  {
   "cell_type": "markdown",
   "metadata": {},
   "source": [
    "d) Create a dataset including as inputs the attributes: 'sepal_length_cm', 'sepal_width_cm', 'petal_length_cm', 'petal_width_cm' and as output the 'price'"
   ]
  },
  {
   "cell_type": "code",
   "execution_count": 33,
   "metadata": {},
   "outputs": [
    {
     "name": "stdout",
     "output_type": "stream",
     "text": [
      "[[5.1 3.5 1.4 0.2]\n",
      " [4.9 3.  1.4 0.2]\n",
      " [4.7 3.2 1.3 0.2]\n",
      " [4.6 3.1 1.5 0.2]\n",
      " [5.  3.6 1.4 0.2]]\n",
      "['Medium' 'Low' 'Low' 'Low' 'Low']\n"
     ]
    }
   ],
   "source": [
    "all_inputs = iris_data2[['sepal_length_cm', 'sepal_width_cm',\n",
    "                             'petal_length_cm', 'petal_width_cm']].values\n",
    "\n",
    "all_labels = iris_data2['price'].values\n",
    "\n",
    "print(all_inputs[:5])\n",
    "print(all_labels[:5])\n",
    "#all_inputs[:5]\n",
    "#all_labels[:5]"
   ]
  },
  {
   "cell_type": "markdown",
   "metadata": {},
   "source": [
    "e)\tUsing only the attribute sepal_length_cm, sepal_width_cm, petal_length_cm, petal_width_cm, fit a decision tree model using stratified cross validation (10 folds) with grid search for classifying the price. "
   ]
  },
  {
   "cell_type": "code",
   "execution_count": 34,
   "metadata": {},
   "outputs": [
    {
     "name": "stdout",
     "output_type": "stream",
     "text": [
      "Best score: 0.8042857142857143\n",
      "Best parameters: {'criterion': 'gini', 'max_depth': 2, 'max_features': 4, 'splitter': 'best'}\n"
     ]
    }
   ],
   "source": [
    "from sklearn.tree import DecisionTreeClassifier\n",
    "from sklearn.model_selection import StratifiedKFold\n",
    "from sklearn.model_selection import cross_val_score\n",
    "from sklearn.model_selection import GridSearchCV\n",
    "\n",
    "dct1 = DecisionTreeClassifier()\n",
    "\n",
    "parameter_grid = {'criterion': ['gini', 'entropy'],\n",
    "                  'splitter': ['best', 'random'],\n",
    "                  'max_depth': [1, 2, 3, 4, 5, 6],\n",
    "                  'max_features': [1, 2, 3, 4]}\n",
    "\n",
    "cross_validation = StratifiedKFold(n_splits=10)\n",
    "\n",
    "grid_search = GridSearchCV(dct1,\n",
    "                           param_grid=parameter_grid,\n",
    "                           cv=cross_validation)\n",
    "\n",
    "grid_search.fit(all_inputs, all_labels)\n",
    "\n",
    "print('Best score: {}'.format(grid_search.best_score_))\n",
    "print('Best parameters: {}'.format(grid_search.best_params_))"
   ]
  },
  {
   "cell_type": "code",
   "execution_count": 35,
   "metadata": {},
   "outputs": [
    {
     "name": "stdout",
     "output_type": "stream",
     "text": [
      "0.8456375838926175\n"
     ]
    }
   ],
   "source": [
    "dct1 = grid_search.best_estimator_\n",
    "print(dct1.score(all_inputs,all_labels))"
   ]
  },
  {
   "cell_type": "code",
   "execution_count": 36,
   "metadata": {},
   "outputs": [
    {
     "data": {
      "text/plain": [
       "<sklearn.metrics._plot.confusion_matrix.ConfusionMatrixDisplay at 0x212ed4d8880>"
      ]
     },
     "execution_count": 36,
     "metadata": {},
     "output_type": "execute_result"
    },
    {
     "data": {
      "image/png": "[encoded data removed]",
      "text/plain": [
       "<Figure size 432x288 with 2 Axes>"
      ]
     },
     "metadata": {
      "needs_background": "light"
     },
     "output_type": "display_data"
    },
    {
     "data": {
      "image/png": "[encoded data removed]",
      "text/plain": [
       "<Figure size 432x288 with 2 Axes>"
      ]
     },
     "metadata": {
      "needs_background": "light"
     },
     "output_type": "display_data"
    }
   ],
   "source": [
    "from sklearn.metrics import confusion_matrix, ConfusionMatrixDisplay\n",
    "pred = dct1.predict(all_inputs)\n",
    "cm = confusion_matrix(all_labels, pred, labels=dct1.classes_)\n",
    "disp = ConfusionMatrixDisplay(confusion_matrix=cm, display_labels=dct1.classes_)\n",
    "disp.plot(cmap='gist_gray')\n",
    "disp.plot()"
   ]
  },
  {
   "cell_type": "code",
   "execution_count": 37,
   "metadata": {},
   "outputs": [],
   "source": [
    "iris_data2['iris_type'] = pd.Categorical(iris_data2['iris_type']).codes\n"
   ]
  },
  {
   "cell_type": "code",
   "execution_count": 38,
   "metadata": {},
   "outputs": [
    {
     "name": "stdout",
     "output_type": "stream",
     "text": [
      "[[5.1 3.5 1.4 0.2 0.  2. ]\n",
      " [4.9 3.  1.4 0.2 0.  1. ]\n",
      " [4.7 3.2 1.3 0.2 0.  0. ]\n",
      " [4.6 3.1 1.5 0.2 0.  0. ]\n",
      " [5.  3.6 1.4 0.2 0.  0. ]]\n",
      "['Medium' 'Low' 'Low' 'Low' 'Low']\n"
     ]
    }
   ],
   "source": [
    "\n",
    "all_inputs = iris_data2[['sepal_length_cm', 'sepal_width_cm',\n",
    "                         'petal_length_cm', 'petal_width_cm', \n",
    "                         'iris_type', 'package']].values\n",
    "\n",
    "all_labels = iris_data2['price'].values\n",
    "\n",
    "print(all_inputs[:5])\n",
    "print(all_labels[:5])\n",
    "#print(all_inputs[:149])\n",
    "#print(all_labels[:149])"
   ]
  },
  {
   "cell_type": "code",
   "execution_count": 43,
   "metadata": {},
   "outputs": [
    {
     "name": "stdout",
     "output_type": "stream",
     "text": [
      "Best score: 0.9185714285714287\n",
      "Best parameters: {'criterion': 'gini', 'max_depth': 6, 'max_features': 2, 'splitter': 'random'}\n",
      "DecisionTreeClassifier(max_depth=6, max_features=2, splitter='random')\n"
     ]
    }
   ],
   "source": [
    "from sklearn.model_selection import StratifiedKFold\n",
    "from sklearn.model_selection import cross_val_score\n",
    "from sklearn.tree import DecisionTreeClassifier\n",
    "from sklearn.model_selection import GridSearchCV\n",
    "\n",
    "dtc = DecisionTreeClassifier()\n",
    "\n",
    "parameter_grid = {'criterion': ['gini', 'entropy'],\n",
    "                  'splitter': ['best', 'random'],\n",
    "                  'max_depth': [1, 2, 3, 4, 5, 6, 7],\n",
    "                  'max_features': [1, 2, 3, 4, 5, 6]}\n",
    "\n",
    "cross_validation = StratifiedKFold(n_splits=10)\n",
    "\n",
    "grid_search = GridSearchCV(dtc,param_grid=parameter_grid,cv=cross_validation)\n",
    "\n",
    "grid_search.fit(all_inputs, all_labels)\n",
    "print('Best score: {}'.format(grid_search.best_score_))\n",
    "print('Best parameters: {}'.format(grid_search.best_params_))\n",
    "bestdct = grid_search.best_estimator_\n",
    "print(bestdct)\n"
   ]
  },
  {
   "cell_type": "code",
   "execution_count": 45,
   "metadata": {
    "scrolled": true
   },
   "outputs": [
    {
     "data": {
      "text/plain": [
       "<sklearn.metrics._plot.confusion_matrix.ConfusionMatrixDisplay at 0x212ee244fd0>"
      ]
     },
     "execution_count": 45,
     "metadata": {},
     "output_type": "execute_result"
    },
    {
     "data": {
      "image/png": "[encoded data removed]",
      "text/plain": [
       "<Figure size 432x288 with 2 Axes>"
      ]
     },
     "metadata": {
      "needs_background": "light"
     },
     "output_type": "display_data"
    }
   ],
   "source": [
    "pred = bestdct.predict(all_inputs)\n",
    "cm = confusion_matrix(all_labels, pred, labels=bestdct.classes_)\n",
    "disp = ConfusionMatrixDisplay(confusion_matrix=cm, display_labels=bestdct.classes_)\n",
    "disp.plot(cmap='gist_gray')"
   ]
  },
  {
   "cell_type": "code",
   "execution_count": 53,
   "metadata": {},
   "outputs": [
    {
     "name": "stdout",
     "output_type": "stream",
     "text": [
      "SVC: 0.9328571428571429\n",
      "NB:  0.6961904761904762\n",
      "kNN:  0.8652380952380954\n",
      "MLP:  0.971904761904762\n"
     ]
    }
   ],
   "source": [
    "#Training with Cross Validation\n",
    "from sklearn.svm import SVC \n",
    "#svm = SVC()\n",
    "svm = SVC(kernel='poly', gamma='auto')\n",
    "scores = cross_val_score(svm, all_inputs, all_labels, cv=10)\n",
    "print(\"SVC:\",scores.mean())\n",
    "\n",
    "from sklearn.naive_bayes import GaussianNB\n",
    "gnb = GaussianNB()\n",
    "scores = cross_val_score(gnb, all_inputs, all_labels, cv=10)\n",
    "print(\"NB: \",scores.mean())\n",
    "\n",
    "from sklearn import neighbors\n",
    "knn = neighbors.KNeighborsClassifier(n_neighbors=1)\n",
    "#knn = neighbors.KNeighborsClassifier()\n",
    "scores = cross_val_score(knn, all_inputs, all_labels, cv=10)\n",
    "print(\"kNN: \",scores.mean())\n",
    "\n",
    "from sklearn.neural_network import MLPClassifier\n",
    "#mlp = MLPClassifier(solver='lbfgs', alpha=1e-4, max_iter=1000)\n",
    "#mlp = MLPClassifier(solver='lbfgs', alpha=1e-4, hidden_layer_sizes=(25), random_state=1, max_iter=10000)\n",
    "mlp = MLPClassifier(solver='lbfgs', alpha=1e-4, hidden_layer_sizes=(25), random_state=1, max_iter=10000)\n",
    "scores = cross_val_score(mlp, all_inputs, all_labels, cv=10)\n",
    "print(\"MLP: \",scores.mean())"
   ]
  },
  {
   "cell_type": "markdown",
   "metadata": {},
   "source": [
    "Example: Training with all data makes the model get 100% score but it will not generalize to new examples"
   ]
  },
  {
   "cell_type": "code",
   "execution_count": 54,
   "metadata": {},
   "outputs": [
    {
     "name": "stdout",
     "output_type": "stream",
     "text": [
      "1.0\n",
      "['Medium' 'Low' 'Low' 'Low' 'Low' 'Low' 'Medium' 'Low' 'Low' 'Low']\n",
      "['Medium' 'Low' 'Low' 'Low' 'Low' 'Low' 'Medium' 'Low' 'Low' 'Low']\n",
      "1.0\n",
      "['Medium' 'Low' 'Low' 'Low' 'Low' 'Low' 'Medium' 'Low' 'Low' 'Low']\n",
      "['Medium' 'Low' 'Low' 'Low' 'Low' 'Low' 'Medium' 'Low' 'Low' 'Low']\n",
      "1.0\n",
      "['Medium' 'Low' 'Low' 'Low' 'Low' 'Low' 'Medium' 'Low' 'Low' 'Low']\n",
      "['Medium' 'Low' 'Low' 'Low' 'Low' 'Low' 'Medium' 'Low' 'Low' 'Low']\n"
     ]
    }
   ],
   "source": [
    "#Training with all data makes the model get 100% score \n",
    "\n",
    "knn.fit(all_inputs,all_labels)\n",
    "print(knn.score(all_inputs,all_labels))\n",
    "pred = knn.predict(all_inputs)\n",
    "print(pred[:10])\n",
    "print(all_labels[:10])\n",
    "\n",
    "svm.fit(all_inputs,all_labels)\n",
    "print(svm.score(all_inputs,all_labels))\n",
    "pred = svm.predict(all_inputs)\n",
    "print(pred[:10])\n",
    "print(all_labels[:10])\n",
    "\n",
    "mlp.fit(all_inputs,all_labels)\n",
    "print(mlp.score(all_inputs,all_labels))\n",
    "pred = mlp.predict(all_inputs)\n",
    "print(pred[:10])\n",
    "print(all_labels[:10])"
   ]
  },
  {
   "cell_type": "code",
   "execution_count": null,
   "metadata": {},
   "outputs": [],
   "source": []
  },
  {
   "cell_type": "code",
   "execution_count": 55,
   "metadata": {},
   "outputs": [
    {
     "data": {
      "text/plain": [
       "<sklearn.metrics._plot.confusion_matrix.ConfusionMatrixDisplay at 0x212e878bd30>"
      ]
     },
     "execution_count": 55,
     "metadata": {},
     "output_type": "execute_result"
    },
    {
     "data": {
      "image/png": "[encoded data removed]",
      "text/plain": [
       "<Figure size 432x288 with 2 Axes>"
      ]
     },
     "metadata": {
      "needs_background": "light"
     },
     "output_type": "display_data"
    }
   ],
   "source": [
    "from sklearn.metrics import confusion_matrix, ConfusionMatrixDisplay\n",
    "cm = confusion_matrix(all_labels, pred, labels=mlp.classes_)\n",
    "disp = ConfusionMatrixDisplay(confusion_matrix=cm, display_labels=mlp.classes_)\n",
    "disp.plot()"
   ]
  },
  {
   "cell_type": "code",
   "execution_count": null,
   "metadata": {},
   "outputs": [],
   "source": []
  },
  {
   "cell_type": "code",
   "execution_count": null,
   "metadata": {},
   "outputs": [],
   "source": []
  }
 ],
 "metadata": {
  "kernelspec": {
   "display_name": "Python 3",
   "language": "python",
   "name": "python3"
  },
  "language_info": {
   "codemirror_mode": {
    "name": "ipython",
    "version": 3
   },
   "file_extension": ".py",
   "mimetype": "text/x-python",
   "name": "python",
   "nbconvert_exporter": "python",
   "pygments_lexer": "ipython3",
   "version": "3.8.8"
  }
 },
 "nbformat": 4,
 "nbformat_minor": 1
}
